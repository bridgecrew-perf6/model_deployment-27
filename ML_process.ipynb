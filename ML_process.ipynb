{
 "cells": [
  {
   "cell_type": "markdown",
   "id": "0d3445c9-7abe-4eae-8503-3e210a847696",
   "metadata": {},
   "source": [
    "## Importing initial libraries"
   ]
  },
  {
   "cell_type": "code",
   "execution_count": 1,
   "id": "674caa04-bf6c-42a0-a87e-34dc2e3dc4a0",
   "metadata": {},
   "outputs": [],
   "source": [
    "import numpy as np\n",
    "import pandas as pd\n",
    "\n",
    "import matplotlib.pyplot as plt\n",
    "import seaborn as sns"
   ]
  },
  {
   "cell_type": "markdown",
   "id": "834d8bf6-f1be-4d25-89a4-dee779b11a17",
   "metadata": {},
   "source": [
    "### Read in the data set"
   ]
  },
  {
   "cell_type": "code",
   "execution_count": 2,
   "id": "72b7a9fa-c8b3-447c-a474-81ef013ccda1",
   "metadata": {},
   "outputs": [],
   "source": [
    "df = pd.read_csv('Advertising.csv')"
   ]
  },
  {
   "cell_type": "markdown",
   "id": "5b48eda2-7cfb-4749-a1a8-3a0f4f0bbf0b",
   "metadata": {},
   "source": [
    "### Initial EDA"
   ]
  },
  {
   "cell_type": "code",
   "execution_count": 3,
   "id": "328e48cd-30c2-42ce-913c-6df4131db855",
   "metadata": {},
   "outputs": [
    {
     "data": {
      "text/html": [
       "<div>\n",
       "<style scoped>\n",
       "    .dataframe tbody tr th:only-of-type {\n",
       "        vertical-align: middle;\n",
       "    }\n",
       "\n",
       "    .dataframe tbody tr th {\n",
       "        vertical-align: top;\n",
       "    }\n",
       "\n",
       "    .dataframe thead th {\n",
       "        text-align: right;\n",
       "    }\n",
       "</style>\n",
       "<table border=\"1\" class=\"dataframe\">\n",
       "  <thead>\n",
       "    <tr style=\"text-align: right;\">\n",
       "      <th></th>\n",
       "      <th>TV</th>\n",
       "      <th>radio</th>\n",
       "      <th>newspaper</th>\n",
       "      <th>sales</th>\n",
       "    </tr>\n",
       "  </thead>\n",
       "  <tbody>\n",
       "    <tr>\n",
       "      <th>0</th>\n",
       "      <td>230.1</td>\n",
       "      <td>37.8</td>\n",
       "      <td>69.2</td>\n",
       "      <td>22.1</td>\n",
       "    </tr>\n",
       "    <tr>\n",
       "      <th>1</th>\n",
       "      <td>44.5</td>\n",
       "      <td>39.3</td>\n",
       "      <td>45.1</td>\n",
       "      <td>10.4</td>\n",
       "    </tr>\n",
       "    <tr>\n",
       "      <th>2</th>\n",
       "      <td>17.2</td>\n",
       "      <td>45.9</td>\n",
       "      <td>69.3</td>\n",
       "      <td>9.3</td>\n",
       "    </tr>\n",
       "    <tr>\n",
       "      <th>3</th>\n",
       "      <td>151.5</td>\n",
       "      <td>41.3</td>\n",
       "      <td>58.5</td>\n",
       "      <td>18.5</td>\n",
       "    </tr>\n",
       "    <tr>\n",
       "      <th>4</th>\n",
       "      <td>180.8</td>\n",
       "      <td>10.8</td>\n",
       "      <td>58.4</td>\n",
       "      <td>12.9</td>\n",
       "    </tr>\n",
       "  </tbody>\n",
       "</table>\n",
       "</div>"
      ],
      "text/plain": [
       "      TV  radio  newspaper  sales\n",
       "0  230.1   37.8       69.2   22.1\n",
       "1   44.5   39.3       45.1   10.4\n",
       "2   17.2   45.9       69.3    9.3\n",
       "3  151.5   41.3       58.5   18.5\n",
       "4  180.8   10.8       58.4   12.9"
      ]
     },
     "execution_count": 3,
     "metadata": {},
     "output_type": "execute_result"
    }
   ],
   "source": [
    "df.head()"
   ]
  },
  {
   "cell_type": "code",
   "execution_count": 4,
   "id": "6a047b31-b04f-4451-9f87-44e3251ddfb4",
   "metadata": {},
   "outputs": [
    {
     "data": {
      "text/html": [
       "<div>\n",
       "<style scoped>\n",
       "    .dataframe tbody tr th:only-of-type {\n",
       "        vertical-align: middle;\n",
       "    }\n",
       "\n",
       "    .dataframe tbody tr th {\n",
       "        vertical-align: top;\n",
       "    }\n",
       "\n",
       "    .dataframe thead th {\n",
       "        text-align: right;\n",
       "    }\n",
       "</style>\n",
       "<table border=\"1\" class=\"dataframe\">\n",
       "  <thead>\n",
       "    <tr style=\"text-align: right;\">\n",
       "      <th></th>\n",
       "      <th>TV</th>\n",
       "      <th>radio</th>\n",
       "      <th>newspaper</th>\n",
       "      <th>sales</th>\n",
       "    </tr>\n",
       "  </thead>\n",
       "  <tbody>\n",
       "    <tr>\n",
       "      <th>count</th>\n",
       "      <td>200.000000</td>\n",
       "      <td>200.000000</td>\n",
       "      <td>200.000000</td>\n",
       "      <td>200.000000</td>\n",
       "    </tr>\n",
       "    <tr>\n",
       "      <th>mean</th>\n",
       "      <td>147.042500</td>\n",
       "      <td>23.264000</td>\n",
       "      <td>30.554000</td>\n",
       "      <td>14.022500</td>\n",
       "    </tr>\n",
       "    <tr>\n",
       "      <th>std</th>\n",
       "      <td>85.854236</td>\n",
       "      <td>14.846809</td>\n",
       "      <td>21.778621</td>\n",
       "      <td>5.217457</td>\n",
       "    </tr>\n",
       "    <tr>\n",
       "      <th>min</th>\n",
       "      <td>0.700000</td>\n",
       "      <td>0.000000</td>\n",
       "      <td>0.300000</td>\n",
       "      <td>1.600000</td>\n",
       "    </tr>\n",
       "    <tr>\n",
       "      <th>25%</th>\n",
       "      <td>74.375000</td>\n",
       "      <td>9.975000</td>\n",
       "      <td>12.750000</td>\n",
       "      <td>10.375000</td>\n",
       "    </tr>\n",
       "    <tr>\n",
       "      <th>50%</th>\n",
       "      <td>149.750000</td>\n",
       "      <td>22.900000</td>\n",
       "      <td>25.750000</td>\n",
       "      <td>12.900000</td>\n",
       "    </tr>\n",
       "    <tr>\n",
       "      <th>75%</th>\n",
       "      <td>218.825000</td>\n",
       "      <td>36.525000</td>\n",
       "      <td>45.100000</td>\n",
       "      <td>17.400000</td>\n",
       "    </tr>\n",
       "    <tr>\n",
       "      <th>max</th>\n",
       "      <td>296.400000</td>\n",
       "      <td>49.600000</td>\n",
       "      <td>114.000000</td>\n",
       "      <td>27.000000</td>\n",
       "    </tr>\n",
       "  </tbody>\n",
       "</table>\n",
       "</div>"
      ],
      "text/plain": [
       "               TV       radio   newspaper       sales\n",
       "count  200.000000  200.000000  200.000000  200.000000\n",
       "mean   147.042500   23.264000   30.554000   14.022500\n",
       "std     85.854236   14.846809   21.778621    5.217457\n",
       "min      0.700000    0.000000    0.300000    1.600000\n",
       "25%     74.375000    9.975000   12.750000   10.375000\n",
       "50%    149.750000   22.900000   25.750000   12.900000\n",
       "75%    218.825000   36.525000   45.100000   17.400000\n",
       "max    296.400000   49.600000  114.000000   27.000000"
      ]
     },
     "execution_count": 4,
     "metadata": {},
     "output_type": "execute_result"
    }
   ],
   "source": [
    "df.describe()"
   ]
  },
  {
   "cell_type": "code",
   "execution_count": 5,
   "id": "12d700dc-02ad-4453-892e-6046ed3781ee",
   "metadata": {},
   "outputs": [
    {
     "name": "stdout",
     "output_type": "stream",
     "text": [
      "<class 'pandas.core.frame.DataFrame'>\n",
      "RangeIndex: 200 entries, 0 to 199\n",
      "Data columns (total 4 columns):\n",
      " #   Column     Non-Null Count  Dtype  \n",
      "---  ------     --------------  -----  \n",
      " 0   TV         200 non-null    float64\n",
      " 1   radio      200 non-null    float64\n",
      " 2   newspaper  200 non-null    float64\n",
      " 3   sales      200 non-null    float64\n",
      "dtypes: float64(4)\n",
      "memory usage: 6.4 KB\n"
     ]
    }
   ],
   "source": [
    "df.info()"
   ]
  },
  {
   "cell_type": "markdown",
   "id": "71b1ff24-8cc7-453e-8828-9c427819c652",
   "metadata": {},
   "source": [
    "## Data preparation"
   ]
  },
  {
   "cell_type": "code",
   "execution_count": 7,
   "id": "a008da9e-d12d-462c-9453-8e0ab8cb1152",
   "metadata": {},
   "outputs": [],
   "source": [
    "X = df.drop('sales',axis=1)\n",
    "y = df['sales']"
   ]
  },
  {
   "cell_type": "markdown",
   "id": "04b5464f-878e-44b4-be85-bd4222a3ef8d",
   "metadata": {},
   "source": [
    "### Train | Validation | Hold out test set\n",
    "**70% trainning data, 15% Validation, 15% Test set**\n",
    "\n",
    "1st split - 70/30\n",
    "\n",
    "2nd split - 50/50"
   ]
  },
  {
   "cell_type": "code",
   "execution_count": 8,
   "id": "24514534-eff6-4421-9fdd-db335a42ecf5",
   "metadata": {},
   "outputs": [],
   "source": [
    "from sklearn.model_selection import train_test_split"
   ]
  },
  {
   "cell_type": "code",
   "execution_count": 9,
   "id": "bc8bb9fb-3fd0-4e33-83e3-1d9afca4eed1",
   "metadata": {},
   "outputs": [],
   "source": [
    "X_train, X_test, y_train, y_test = train_test_split(\n",
    "...     X, y, test_size=0.3, random_state=101)"
   ]
  },
  {
   "cell_type": "code",
   "execution_count": 10,
   "id": "7a472eec-12db-417f-8d44-f850aadb1f8f",
   "metadata": {},
   "outputs": [],
   "source": [
    "X_validation, X_holdout, y_validation, y_holdout = train_test_split(\n",
    "...     X_test, y_test, test_size=0.5, random_state=101)"
   ]
  },
  {
   "cell_type": "markdown",
   "id": "29a574c7-cce9-4fc9-8286-b5697f9febec",
   "metadata": {
    "tags": []
   },
   "source": [
    "## Model trainning"
   ]
  },
  {
   "cell_type": "code",
   "execution_count": 11,
   "id": "fd80ea09-0175-4971-8d15-b561b893965c",
   "metadata": {},
   "outputs": [],
   "source": [
    "from sklearn.ensemble import RandomForestRegressor"
   ]
  },
  {
   "cell_type": "code",
   "execution_count": 23,
   "id": "78a5a1cd-2b95-4a61-87d7-350db13f0112",
   "metadata": {},
   "outputs": [],
   "source": [
    "model = RandomForestRegressor(n_estimators=30,\n",
    "                              random_state=101)"
   ]
  },
  {
   "cell_type": "code",
   "execution_count": 24,
   "id": "3b05afdc-a2e1-42d0-8c59-aea512d1ed49",
   "metadata": {},
   "outputs": [
    {
     "data": {
      "text/plain": [
       "RandomForestRegressor(n_estimators=30, random_state=101)"
      ]
     },
     "execution_count": 24,
     "metadata": {},
     "output_type": "execute_result"
    }
   ],
   "source": [
    "model.fit(X_train, y_train)"
   ]
  },
  {
   "cell_type": "markdown",
   "id": "0948d796-2d31-431f-9988-fe65e42c5041",
   "metadata": {},
   "source": [
    "### Model evaluation"
   ]
  },
  {
   "cell_type": "code",
   "execution_count": 25,
   "id": "7a364cc3-9f53-4daa-8dd2-7ca34dc54ccb",
   "metadata": {},
   "outputs": [],
   "source": [
    "from sklearn.metrics import mean_squared_error,mean_absolute_error"
   ]
  },
  {
   "cell_type": "code",
   "execution_count": 26,
   "id": "845d4dec-25cf-4898-95fe-4b927f46320e",
   "metadata": {},
   "outputs": [],
   "source": [
    "y_preds = model.predict(X_validation)"
   ]
  },
  {
   "cell_type": "code",
   "execution_count": 34,
   "id": "12ec4f24-7ea8-407c-a40c-684b15c72f81",
   "metadata": {},
   "outputs": [
    {
     "data": {
      "text/plain": [
       "0.6575555555555552"
      ]
     },
     "execution_count": 34,
     "metadata": {},
     "output_type": "execute_result"
    }
   ],
   "source": [
    "mean_absolute_error(y_validation,y_preds) # --> compare against target mean value"
   ]
  },
  {
   "cell_type": "code",
   "execution_count": 35,
   "id": "b08b7c90-efb2-4338-9bfa-f57509f9cdf8",
   "metadata": {},
   "outputs": [
    {
     "data": {
      "text/plain": [
       "0.8542009478215644"
      ]
     },
     "execution_count": 35,
     "metadata": {},
     "output_type": "execute_result"
    }
   ],
   "source": [
    "np.sqrt(mean_squared_error(y_validation,y_preds))# --> compare against target std value"
   ]
  },
  {
   "cell_type": "code",
   "execution_count": 36,
   "id": "09b1a89a-cb3d-4dcd-bd13-6e05fb79221e",
   "metadata": {},
   "outputs": [
    {
     "data": {
      "text/plain": [
       "count    200.000000\n",
       "mean      14.022500\n",
       "std        5.217457\n",
       "min        1.600000\n",
       "25%       10.375000\n",
       "50%       12.900000\n",
       "75%       17.400000\n",
       "max       27.000000\n",
       "Name: sales, dtype: float64"
      ]
     },
     "execution_count": 36,
     "metadata": {},
     "output_type": "execute_result"
    }
   ],
   "source": [
    "df.describe()['sales'] "
   ]
  },
  {
   "cell_type": "code",
   "execution_count": 30,
   "id": "f1c1fbe0-0bc4-48b2-90ae-67096ae273dd",
   "metadata": {},
   "outputs": [],
   "source": [
    "# MAE 0.85 , RMSE 1.1 --> n_estimator=3\n",
    "# MAE 0.65 , RMSE 0.85 --> n_estimator=30"
   ]
  },
  {
   "cell_type": "markdown",
   "id": "5fc90297-2ddd-4239-9bec-976a9276b573",
   "metadata": {},
   "source": [
    "## Final metrics on hold out data\n",
    "**No more tunning data after this**"
   ]
  },
  {
   "cell_type": "code",
   "execution_count": 31,
   "id": "7b5d4987-cce4-425c-8986-78d6ee86ab4b",
   "metadata": {},
   "outputs": [],
   "source": [
    "final_predictions = model.predict(X_holdout)"
   ]
  },
  {
   "cell_type": "code",
   "execution_count": 33,
   "id": "3800a5fe-3935-4935-b7cf-09add7feb03a",
   "metadata": {},
   "outputs": [
    {
     "data": {
      "text/plain": [
       "0.5937777777777775"
      ]
     },
     "execution_count": 33,
     "metadata": {},
     "output_type": "execute_result"
    }
   ],
   "source": [
    "mean_absolute_error(y_holdout,final_predictions)"
   ]
  },
  {
   "cell_type": "code",
   "execution_count": 32,
   "id": "9d2e2ec9-051b-40ca-be81-0cecf472d944",
   "metadata": {},
   "outputs": [
    {
     "data": {
      "text/plain": [
       "0.745323693040418"
      ]
     },
     "execution_count": 32,
     "metadata": {},
     "output_type": "execute_result"
    }
   ],
   "source": [
    "np.sqrt(mean_squared_error(y_holdout,final_predictions))"
   ]
  },
  {
   "cell_type": "markdown",
   "id": "bd90d044-91d0-4187-b20a-3adb9b082068",
   "metadata": {},
   "source": [
    "### The final model on entire dataset"
   ]
  },
  {
   "cell_type": "code",
   "execution_count": 37,
   "id": "08e303a4-bf41-48a1-b8e2-0c4212ce28c2",
   "metadata": {
    "tags": []
   },
   "outputs": [],
   "source": [
    "final_model = RandomForestRegressor(n_estimators=30,random_state=101)"
   ]
  },
  {
   "cell_type": "code",
   "execution_count": 38,
   "id": "2b1d566c-43c6-4950-92d6-0ebd3b32f44f",
   "metadata": {},
   "outputs": [
    {
     "data": {
      "text/plain": [
       "RandomForestRegressor(n_estimators=30, random_state=101)"
      ]
     },
     "execution_count": 38,
     "metadata": {},
     "output_type": "execute_result"
    }
   ],
   "source": [
    "final_model.fit(X,y)"
   ]
  },
  {
   "cell_type": "markdown",
   "id": "ab95cd1d-729b-49fb-ab0a-478c73200857",
   "metadata": {},
   "source": [
    "### Saving your final model"
   ]
  },
  {
   "cell_type": "code",
   "execution_count": 39,
   "id": "eb12353e-67ec-4992-97b5-4bfe9ccd5f53",
   "metadata": {},
   "outputs": [],
   "source": [
    "import joblib"
   ]
  },
  {
   "cell_type": "code",
   "execution_count": 40,
   "id": "a990360c-104e-4e35-a524-9ca0304bb53c",
   "metadata": {},
   "outputs": [
    {
     "data": {
      "text/plain": [
       "['final_model.pkl']"
      ]
     },
     "execution_count": 40,
     "metadata": {},
     "output_type": "execute_result"
    }
   ],
   "source": [
    "joblib.dump(final_model,'final_model.pkl')"
   ]
  },
  {
   "cell_type": "code",
   "execution_count": 42,
   "id": "e065637e-2f61-4bf3-bbbf-da803c379a4f",
   "metadata": {},
   "outputs": [
    {
     "data": {
      "text/plain": [
       "['TV', 'radio', 'newspaper']"
      ]
     },
     "execution_count": 42,
     "metadata": {},
     "output_type": "execute_result"
    }
   ],
   "source": [
    "list(X.columns)"
   ]
  },
  {
   "cell_type": "code",
   "execution_count": 43,
   "id": "71805b22-1465-43d3-9ef4-3364c1ca06f8",
   "metadata": {},
   "outputs": [
    {
     "data": {
      "text/plain": [
       "['col_names.pkl']"
      ]
     },
     "execution_count": 43,
     "metadata": {},
     "output_type": "execute_result"
    }
   ],
   "source": [
    "joblib.dump(list(X.columns),'col_names.pkl')"
   ]
  },
  {
   "cell_type": "markdown",
   "id": "854abd72-e11a-4bad-aad5-bb269ca0767d",
   "metadata": {},
   "source": [
    "### Loading the model as a test"
   ]
  },
  {
   "cell_type": "code",
   "execution_count": 44,
   "id": "f588cd63-821b-40e5-9564-a47ed9ef795f",
   "metadata": {},
   "outputs": [],
   "source": [
    "new_columns = joblib.load('col_names.pkl')"
   ]
  },
  {
   "cell_type": "code",
   "execution_count": 45,
   "id": "30a910ea-670b-43ce-91c5-f310a5e40438",
   "metadata": {},
   "outputs": [
    {
     "data": {
      "text/plain": [
       "['TV', 'radio', 'newspaper']"
      ]
     },
     "execution_count": 45,
     "metadata": {},
     "output_type": "execute_result"
    }
   ],
   "source": [
    "new_columns"
   ]
  },
  {
   "cell_type": "code",
   "execution_count": 46,
   "id": "4960f1be-bbeb-4b15-8329-c1f67338b864",
   "metadata": {},
   "outputs": [],
   "source": [
    "loaded_model = joblib.load('final_model.pkl')"
   ]
  },
  {
   "cell_type": "markdown",
   "id": "8d151f00-0ddf-4080-9d06-a16fb94f312d",
   "metadata": {},
   "source": [
    "#### make a prediction o new data"
   ]
  },
  {
   "cell_type": "code",
   "execution_count": 47,
   "id": "e6c2029e-23f1-4762-9dfa-667ace3bfd64",
   "metadata": {},
   "outputs": [
    {
     "data": {
      "text/plain": [
       "array([21.99])"
      ]
     },
     "execution_count": 47,
     "metadata": {},
     "output_type": "execute_result"
    }
   ],
   "source": [
    "loaded_model.predict([[230.1,37.8,69.2]])"
   ]
  }
 ],
 "metadata": {
  "kernelspec": {
   "display_name": "Python 3 (ipykernel)",
   "language": "python",
   "name": "python3"
  },
  "language_info": {
   "codemirror_mode": {
    "name": "ipython",
    "version": 3
   },
   "file_extension": ".py",
   "mimetype": "text/x-python",
   "name": "python",
   "nbconvert_exporter": "python",
   "pygments_lexer": "ipython3",
   "version": "3.9.7"
  }
 },
 "nbformat": 4,
 "nbformat_minor": 5
}
